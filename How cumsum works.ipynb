{
 "cells": [
  {
   "cell_type": "code",
   "execution_count": 1,
   "id": "c31cc363",
   "metadata": {},
   "outputs": [
    {
     "name": "stdout",
     "output_type": "stream",
     "text": [
      "Probability Matrix: [0.1 0.2 0.4 0.2 0.1]\n",
      "Cumulative Sum: [0.1 0.3 0.7 0.9 1. ]\n"
     ]
    }
   ],
   "source": [
    "import numpy as np\n",
    "\n",
    "# Define an example probability matrix\n",
    "probability_matrix = np.array([0.1, 0.2, 0.4, 0.2, 0.1])\n",
    "\n",
    "# Compute the cumulative sum\n",
    "cumulative_sum = np.cumsum(probability_matrix)\n",
    "\n",
    "print(\"Probability Matrix:\", probability_matrix)\n",
    "print(\"Cumulative Sum:\", cumulative_sum)"
   ]
  }
 ],
 "metadata": {
  "kernelspec": {
   "display_name": "Python 3 (ipykernel)",
   "language": "python",
   "name": "python3"
  },
  "language_info": {
   "codemirror_mode": {
    "name": "ipython",
    "version": 3
   },
   "file_extension": ".py",
   "mimetype": "text/x-python",
   "name": "python",
   "nbconvert_exporter": "python",
   "pygments_lexer": "ipython3",
   "version": "3.10.11"
  }
 },
 "nbformat": 4,
 "nbformat_minor": 5
}
