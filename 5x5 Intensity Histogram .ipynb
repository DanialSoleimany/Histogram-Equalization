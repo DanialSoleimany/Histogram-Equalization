{
 "cells": [
  {
   "cell_type": "code",
   "execution_count": 12,
   "id": "d40c7a69",
   "metadata": {},
   "outputs": [],
   "source": [
    "import numpy as np\n",
    "\n",
    "# Define the image array\n",
    "image_array = np.array([\n",
    "    [52, 55, 59, 52, 55],\n",
    "    [55, 59, 52, 59, 59],\n",
    "    [55, 52, 52, 55, 55],\n",
    "    [59, 59, 59, 52, 55],\n",
    "    [52, 55, 55, 59, 59]\n",
    "])\n",
    "\n",
    "# Flatten the image array to a 1D array\n",
    "flattened_array = image_array.flatten()\n",
    "\n",
    "# Calculate the histogram\n",
    "hist, _ = np.histogram(flattened_array, bins=256, range=(0, 255))"
   ]
  },
  {
   "cell_type": "code",
   "execution_count": 14,
   "id": "7a2aa1c0",
   "metadata": {},
   "outputs": [
    {
     "name": "stdout",
     "output_type": "stream",
     "text": [
      "Original Image Array:\n",
      "[[52 55 59 52 55]\n",
      " [55 59 52 59 59]\n",
      " [55 52 52 55 55]\n",
      " [59 59 59 52 55]\n",
      " [52 55 55 59 59]]\n",
      "\n",
      "Flattened Array\n",
      "[52 55 59 52 55 55 59 52 59 59 55 52 52 55 55 59 59 59 52 55 52 55 55 59\n",
      " 59]\n"
     ]
    }
   ],
   "source": [
    "print(\"Original Image Array:\")\n",
    "print(image_array)\n",
    "print(\"\\nFlattened Array\")\n",
    "print(flattened_array)"
   ]
  }
 ],
 "metadata": {
  "kernelspec": {
   "display_name": "Python 3 (ipykernel)",
   "language": "python",
   "name": "python3"
  },
  "language_info": {
   "codemirror_mode": {
    "name": "ipython",
    "version": 3
   },
   "file_extension": ".py",
   "mimetype": "text/x-python",
   "name": "python",
   "nbconvert_exporter": "python",
   "pygments_lexer": "ipython3",
   "version": "3.10.11"
  }
 },
 "nbformat": 4,
 "nbformat_minor": 5
}
